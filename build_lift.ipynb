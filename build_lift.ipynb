{
 "cells": [
  {
   "cell_type": "markdown",
   "id": "a9670a9b",
   "metadata": {},
   "source": [
    "### Defining Experiment"
   ]
  },
  {
   "cell_type": "code",
   "execution_count": 2,
   "id": "f303dbec",
   "metadata": {},
   "outputs": [],
   "source": [
    "experiment = {\n",
    "    \n",
    "    'experiment_name' : 'AST',\n",
    "    'collection' : '',\n",
    "    'taxonomy_type' : '',\n",
    "    'papers_type' : '_ENHANCED'\n",
    "}\n",
    "keywords = (experiment['collection'] == 'keywords')\n",
    "shortcut = {'_ENHANCED':'enh', '':'std'}"
   ]
  },
  {
   "cell_type": "code",
   "execution_count": 3,
   "id": "a6a4f0fe",
   "metadata": {},
   "outputs": [],
   "source": [
    "from libs import *\n",
    "np.set_printoptions(suppress=True)\n",
    "\n",
    "\n",
    "EXP_DIR = f\"experiments/{experiment['experiment_name']}/{experiment['collection']}\"\n",
    "makedir(EXP_DIR)"
   ]
  },
  {
   "cell_type": "markdown",
   "id": "2ca7faee",
   "metadata": {},
   "source": [
    "### Loading Relevance Matrix"
   ]
  },
  {
   "cell_type": "code",
   "execution_count": 4,
   "id": "562d2fda",
   "metadata": {},
   "outputs": [],
   "source": [
    "# rel_mat = load_obj(\n",
    "#     f'input_data/relevance_matrices/{experiment[\"experiment_name\"]}\\\n",
    "# /rel_mat_{experiment[\"experiment_name\"]}\\\n",
    "# _{\"keywords_\" if keywords else \"\"}\\\n",
    "# {shortcut[experiment[\"papers_type\"]]}_{shortcut[experiment[\"taxonomy_type\"]]}.pkl'\n",
    "# )\n",
    "\n",
    "topics_unique = load_obj(name=\n",
    "                    f'input_data/taxonomies/unique_topics{experiment[\"taxonomy_type\"]}'\n",
    "                           )\n",
    "\n",
    "indices_unique = load_obj(name=\n",
    "                          f\"input_data/taxonomies/unique_indices{experiment['taxonomy_type']}\")\n",
    "\n",
    "papers_df = pd.read_csv(f'input_data/text_collections/papers_df{experiment[\"papers_type\"]}.csv',\n",
    "                            index_col=0)\n",
    "\n",
    "if keywords:\n",
    "    papers_df['keywords'] = papers_df['keywords'].apply(eval)\n",
    "    texts = papers_df['keywords'].apply(lambda x: ' '.join(x)).str.lower().to_numpy()"
   ]
  },
  {
   "cell_type": "markdown",
   "id": "ef7b8b0e",
   "metadata": {},
   "source": [
    "### Building Similarity Matrix"
   ]
  },
  {
   "cell_type": "code",
   "execution_count": 5,
   "id": "a07d5d27",
   "metadata": {},
   "outputs": [],
   "source": [
    "def diag_mult(v, M):\n",
    "    result = M.copy()\n",
    "    for i in range(M.shape[0]):\n",
    "        result[i] = v[i]*result[i]    \n",
    "    return result"
   ]
  },
  {
   "cell_type": "code",
   "execution_count": 6,
   "id": "0ecd1681",
   "metadata": {},
   "outputs": [],
   "source": [
    "rel_mat = load_obj(name=f'input_data/relevance_matrices/{experiment[\"experiment_name\"]}/'+\n",
    "f'rel_mat_{experiment[\"experiment_name\"]}_{\"keywords_\" if keywords else \"\"}' + \n",
    "f'{shortcut[experiment[\"papers_type\"]]}_{shortcut[experiment[\"taxonomy_type\"]]}.pkl'\n",
    ")\n",
    "rel_mat[rel_mat<0.3] = .0\n",
    "sim_mat = rel_mat.T@rel_mat\n",
    "\n"
   ]
  },
  {
   "cell_type": "code",
   "execution_count": 155,
   "id": "63ffaffa",
   "metadata": {},
   "outputs": [
    {
     "name": "stdout",
     "output_type": "stream",
     "text": [
      "Cluster contribution is too small\n"
     ]
    }
   ],
   "source": [
    "import custom_algorithms as custom\n",
    "reload(custom)\n",
    "import FADDIS\n",
    "reload(FADDIS)\n",
    "\n",
    "LapIn = custom.LapInTransformer()\n",
    "\n",
    "LapIn.fit(sim_mat)\n",
    "\n",
    "L_inv = LapIn.L_inv\n",
    "\n",
    "\n",
    "clf1 = custom.FSC(mat_diff=0.0036, derivative_scale=0.005)\n",
    "clf2 = custom.LaplacianFCM(n_clusters=10)\n",
    "clf3 = FADDIS.FADDIS()\n",
    "\n",
    "clf1.fit(sim_mat)\n",
    "clf2.fit(sim_mat)\n",
    "clf3.fit(L_inv)"
   ]
  },
  {
   "cell_type": "code",
   "execution_count": 156,
   "id": "faf442a8",
   "metadata": {
    "scrolled": true
   },
   "outputs": [
    {
     "data": {
      "text/plain": [
       "(302, 11)"
      ]
     },
     "execution_count": 156,
     "metadata": {},
     "output_type": "execute_result"
    }
   ],
   "source": [
    "import utils\n",
    "reload(utils)\n",
    "\n",
    "cl1 = utils.Clusters(clf1.mm, topics=topics_unique, indices=indices_unique)\n",
    "cl2 = utils.Clusters(clf2.mm, topics=topics_unique, indices=indices_unique)\n",
    "cl3 = utils.Clusters(clf3.mm, topics=topics_unique, indices=indices_unique)\n",
    "\n",
    "\n",
    "\n",
    "(cl1.mm).shape\n",
    "\n"
   ]
  },
  {
   "cell_type": "code",
   "execution_count": 177,
   "id": "2ff27b69",
   "metadata": {
    "scrolled": true
   },
   "outputs": [
    {
     "data": {
      "text/plain": [
       "<matplotlib.collections.PathCollection at 0x1093b03a0>"
      ]
     },
     "execution_count": 177,
     "metadata": {},
     "output_type": "execute_result"
    },
    {
     "data": {
      "image/png": "[encoded data removed]",
      "text/plain": [
       "<Figure size 432x288 with 1 Axes>"
      ]
     },
     "metadata": {
      "needs_background": "light"
     },
     "output_type": "display_data"
    }
   ],
   "source": [
    "z = clf1.eigenvalues[:20]\n",
    "plt.scatter(np.arange(len(z)), \n",
    "                      z)"
   ]
  },
  {
   "cell_type": "code",
   "execution_count": 185,
   "id": "0ff66a2f",
   "metadata": {
    "scrolled": true
   },
   "outputs": [
    {
     "name": "stdout",
     "output_type": "stream",
     "text": [
      "2.1.3.4   :: Expectation maximization :: 0.18\n",
      "3.1.3.2.1 :: Query optimization       :: 0.18\n",
      "3.4.3.1   :: Personalization          :: 0.15\n",
      "4.1.3.1   :: Scientific visualization :: 0.11\n",
      "3.4.5.9   :: Summarization            :: 0.11\n"
     ]
    }
   ],
   "source": [
    "cl1.show(10)"
   ]
  },
  {
   "cell_type": "markdown",
   "id": "4598c5b6",
   "metadata": {},
   "source": [
    "### Clustering "
   ]
  },
  {
   "cell_type": "code",
   "execution_count": 5,
   "id": "17e46d44",
   "metadata": {
    "scrolled": true
   },
   "outputs": [
    {
     "data": {
      "text/plain": [
       "<LaplacianFCM.LaplacianFCM at 0x125e61760>"
      ]
     },
     "execution_count": 5,
     "metadata": {},
     "output_type": "execute_result"
    }
   ],
   "source": [
    "from sklearn.manifold import spectral_embedding\n",
    "from sklearn.cluster import KMeans\n",
    "from fcmeans import FCM\n",
    "from LaplacianFCM import LaplacianFCM\n",
    "from sklearn.decomposition import PCA\n",
    "import utils\n",
    "\n",
    "clf = LaplacianFCM(n_clusters=12, embedding_dim=12, random_state=1)\n",
    "\n",
    "clf.fit(sim_mat)"
   ]
  },
  {
   "cell_type": "code",
   "execution_count": 6,
   "id": "7ba2d347",
   "metadata": {},
   "outputs": [],
   "source": [
    "import utils \n",
    "reload(utils)\n",
    "from utils import Clusters\n",
    "\n",
    "cl_fcm = Clusters(clf.fcm.u.copy(), topics_unique, clf.embedding, random_state=1)\n",
    "cl_km = Clusters(clf.kmeans.u.copy(), topics_unique, clf.embedding, random_state=1)"
   ]
  },
  {
   "cell_type": "markdown",
   "id": "f16b489e",
   "metadata": {},
   "source": [
    "### Lifting"
   ]
  }
 ],
 "metadata": {
  "kernelspec": {
   "display_name": "pargenfs",
   "language": "python",
   "name": "pargenfs"
  },
  "language_info": {
   "codemirror_mode": {
    "name": "ipython",
    "version": 3
   },
   "file_extension": ".py",
   "mimetype": "text/x-python",
   "name": "python",
   "nbconvert_exporter": "python",
   "pygments_lexer": "ipython3",
   "version": "3.9.7"
  }
 },
 "nbformat": 4,
 "nbformat_minor": 5
}
